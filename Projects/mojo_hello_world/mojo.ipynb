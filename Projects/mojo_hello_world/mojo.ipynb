{
 "cells": [
  {
   "cell_type": "markdown",
   "metadata": {},
   "source": [
    "## Functions\n",
    "Define functions like Python if you must    "
   ]
  },
  {
   "cell_type": "code",
   "execution_count": 24,
   "metadata": {},
   "outputs": [],
   "source": [
    "def greet(name):\n",
    "    greeting = \"Hello, \" + name + \"!\"\n",
    "    return greeting"
   ]
  },
  {
   "cell_type": "markdown",
   "metadata": {},
   "source": [
    "With Mojo's `fn` syntax we have to be more explicit as it's much more strict."
   ]
  },
  {
   "cell_type": "code",
   "execution_count": 26,
   "metadata": {},
   "outputs": [
    {
     "name": "stdout",
     "output_type": "stream",
     "text": [
      "Hello, User!\n"
     ]
    }
   ],
   "source": [
    "fn function_greet(name: String) -> String:\n",
    "  var greeting = \"Hello, \" + name + \"!\"\n",
    "  return greeting\n",
    "  \n",
    "print(function_greet(\"User\"))"
   ]
  },
  {
   "cell_type": "markdown",
   "metadata": {},
   "source": [
    "## Variables\n",
    "Types can be inferred"
   ]
  },
  {
   "cell_type": "code",
   "execution_count": 6,
   "metadata": {},
   "outputs": [
    {
     "name": "stdout",
     "output_type": "stream",
     "text": [
      "18\n"
     ]
    }
   ],
   "source": [
    "var age = 18\n",
    "print(age)"
   ]
  },
  {
   "cell_type": "markdown",
   "metadata": {},
   "source": [
    "Once type is inferred it cannot be reassigned"
   ]
  },
  {
   "cell_type": "code",
   "execution_count": 7,
   "metadata": {},
   "outputs": [
    {
     "name": "stdout",
     "output_type": "stream",
     "text": [
      "error: \u001b[0;1;31m\u001b[1mExpression [7]:1:7: \u001b[0m\u001b[1mcannot implicitly convert 'StringLiteral' value to 'Int'\n",
      "\u001b[0mage = \"eighteen\"\n",
      "\u001b[0;1;32m      ^~~~~~~~~~\n",
      "\u001b[0m\u001b[0m"
     ]
    },
    {
     "name": "stderr",
     "output_type": "stream",
     "text": [
      "expression failed to parse (no further compiler diagnostics)"
     ]
    }
   ],
   "source": [
    "age = \"eighteen\""
   ]
  },
  {
   "cell_type": "markdown",
   "metadata": {},
   "source": [
    "We can explicitly assign types"
   ]
  },
  {
   "cell_type": "code",
   "execution_count": 8,
   "metadata": {},
   "outputs": [
    {
     "name": "stdout",
     "output_type": "stream",
     "text": [
      "10\n"
     ]
    }
   ],
   "source": [
    "var decade: Int = 10\n",
    "print(decade)"
   ]
  },
  {
   "cell_type": "markdown",
   "metadata": {},
   "source": [
    "## Strings\n",
    "Can be defined using both single an double quotes"
   ]
  },
  {
   "cell_type": "code",
   "execution_count": 13,
   "metadata": {},
   "outputs": [
    {
     "name": "stdout",
     "output_type": "stream",
     "text": [
      "Earth\n",
      "3rd\n"
     ]
    }
   ],
   "source": [
    "var planet = \"Earth\"\n",
    "var position = '3rd'\n",
    "print(planet)\n",
    "print(position)"
   ]
  },
  {
   "cell_type": "markdown",
   "metadata": {},
   "source": [
    "## Lists\n",
    "Define a list. Next append items to it. Afterwards pop an item from it.\n",
    "Lastly loop through it."
   ]
  },
  {
   "cell_type": "code",
   "execution_count": 19,
   "metadata": {},
   "outputs": [
    {
     "name": "stdout",
     "output_type": "stream",
     "text": [
      "Popping last item from list:  11\n",
      "2, 3, 5, 7, "
     ]
    }
   ],
   "source": [
    "var list = List(2, 3, 5)\n",
    "list.append(7)\n",
    "list.append(11)\n",
    "print(\"Popping last item from list: \", list.pop())\n",
    "for idx in range(len(list)):\n",
    "      print(list[idx], end=\", \")\n"
   ]
  },
  {
   "cell_type": "markdown",
   "metadata": {},
   "source": [
    "## Dicts\n",
    "We can define dicts, assign values to their keys, & reference their items easily."
   ]
  },
  {
   "cell_type": "code",
   "execution_count": 21,
   "metadata": {},
   "outputs": [
    {
     "name": "stdout",
     "output_type": "stream",
     "text": [
      "Mercuary 0\n",
      "Venus 1\n",
      "Earth 2\n"
     ]
    }
   ],
   "source": [
    "var planets = Dict[String, Int8]()\n",
    "\n",
    "planets['Mercuary'] = 0\n",
    "planets['Venus'] = 1\n",
    "planets['Earth'] = 2\n",
    "\n",
    "for item in planets.items():\n",
    "  print(item[].key, item[].value)"
   ]
  },
  {
   "cell_type": "markdown",
   "metadata": {},
   "source": [
    "## Set\n",
    "Sets behave traditionally. They're lists of unique values."
   ]
  },
  {
   "cell_type": "code",
   "execution_count": 23,
   "metadata": {},
   "outputs": [
    {
     "name": "stdout",
     "output_type": "stream",
     "text": [
      "- ice cream\n",
      "- tacos\n"
     ]
    }
   ],
   "source": [
    "from collections import Set\n",
    "\n",
    "i_like = Set(\"sushi\", \"ice cream\", \"tacos\", \"pho\")\n",
    "you_like = Set(\"burgers\", \"tacos\", \"salad\", \"ice cream\")\n",
    "we_like = i_like.intersection(you_like)\n",
    "\n",
    "for item in we_like:\n",
    "    print(\"-\", item[])"
   ]
  },
  {
   "cell_type": "code",
   "execution_count": null,
   "metadata": {},
   "outputs": [],
   "source": []
  },
  {
   "cell_type": "code",
   "execution_count": null,
   "metadata": {},
   "outputs": [],
   "source": []
  }
 ],
 "metadata": {
  "kernelspec": {
   "display_name": "Mojo (nightly)",
   "language": "mojo",
   "name": "mojo-nightly-jupyter-kernel"
  },
  "language_info": {
   "codemirror_mode": {
    "name": "mojo"
   },
   "file_extension": ".mojo",
   "mimetype": "text/x-mojo",
   "name": "mojo"
  }
 },
 "nbformat": 4,
 "nbformat_minor": 2
}
